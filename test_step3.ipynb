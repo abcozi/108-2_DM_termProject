{
 "cells": [
  {
   "cell_type": "code",
   "execution_count": 1,
   "metadata": {},
   "outputs": [],
   "source": [
    "#import packages\n",
    "import csv\n",
    "from sklearn.cluster import KMeans\n",
    "import numpy as np\n",
    "import matplotlib.pyplot as plt\n",
    "from sklearn.decomposition import PCA\n",
    "import math\n",
    "from joblib import dump, load"
   ]
  },
  {
   "cell_type": "code",
   "execution_count": 24,
   "metadata": {},
   "outputs": [],
   "source": [
    "#data normalization\n",
    "def normalize(data):\n",
    "    data_ = []\n",
    "    for i in range(len(data)):\n",
    "        row = []\n",
    "        for j in range(len(data[i])):\n",
    "            if j == 2:\n",
    "                row.append(int(data[i][j])/12)\n",
    "            elif j == 3:\n",
    "                val = (float(data[i][j]) +60)/60\n",
    "                row.append(val)\n",
    "            elif j == 10:\n",
    "                row.append(int(round(float(data[i][j])))/200)\n",
    "            else:\n",
    "                row.append(float(data[i][j]))\n",
    "        data_.append(row)\n",
    "    return data_"
   ]
  },
  {
   "cell_type": "code",
   "execution_count": 25,
   "metadata": {},
   "outputs": [],
   "source": [
    "#load centroids from step2 clustering results\n",
    "def getCentroids():\n",
    "    cs = []\n",
    "    with open(\"centroids_2.csv\", \"r\") as csvfile:\n",
    "        rows = csv.reader(csvfile)\n",
    "        for row in rows:\n",
    "            drow = []\n",
    "            for col in row:\n",
    "                drow.append(float(col))\n",
    "            cs.append(drow)\n",
    "    #cs = np.array(cs)\n",
    "    return cs"
   ]
  },
  {
   "cell_type": "code",
   "execution_count": 26,
   "metadata": {},
   "outputs": [],
   "source": [
    "#每個sample使用features如下，共11個。\n",
    "#['danceability','energy','key', 'loudness', 'mode', 'speechiness', 'acousticness','instrumentalness',\n",
    "# 'liveness','valence','tempo']\n",
    "#classify a feature vector. x must be a 1x11 vector(11 features)\n",
    "def classify(centroids,x):\n",
    "    minDis = 0\n",
    "    belong = 0\n",
    "    for i in range(len(centroids)):\n",
    "        val = 0\n",
    "        for j in range(len(centroids[0])):\n",
    "            val += math.pow(x[j]-centroids[i][j],2)\n",
    "        if i == 0:\n",
    "            minDis = val\n",
    "        elif val < minDis:\n",
    "            minDis = val\n",
    "            belong = i\n",
    "    return belong"
   ]
  },
  {
   "cell_type": "code",
   "execution_count": 27,
   "metadata": {},
   "outputs": [],
   "source": [
    "#load pca model from step2\n",
    "pca = load(\"pca.joblib\")"
   ]
  },
  {
   "cell_type": "code",
   "execution_count": 28,
   "metadata": {},
   "outputs": [],
   "source": [
    "#get centroids\n",
    "centroids = getCentroids()"
   ]
  },
  {
   "cell_type": "code",
   "execution_count": 29,
   "metadata": {},
   "outputs": [],
   "source": [
    "#get cluster amount\n",
    "clusterAmount = len(centroids)"
   ]
  },
  {
   "cell_type": "code",
   "execution_count": 30,
   "metadata": {},
   "outputs": [],
   "source": [
    "#load data\n",
    "data = []\n",
    "header = []\n",
    "if True:\n",
    "    with open(\"city_result_2.csv\", \"r\") as csvfile:\n",
    "        rows = csv.reader(csvfile)\n",
    "        i = 0\n",
    "        for row in rows:\n",
    "            if i == 0:\n",
    "                header = row[2:13]\n",
    "            else:\n",
    "                data.append(row[2:13])\n",
    "            i += 1"
   ]
  },
  {
   "cell_type": "code",
   "execution_count": 31,
   "metadata": {},
   "outputs": [],
   "source": [
    "data = normalize(data)"
   ]
  },
  {
   "cell_type": "code",
   "execution_count": 32,
   "metadata": {},
   "outputs": [],
   "source": [
    "#transform data with pca model\n",
    "data = np.array(data, dtype=float)\n",
    "data = pca.transform(data)"
   ]
  },
  {
   "cell_type": "code",
   "execution_count": 33,
   "metadata": {},
   "outputs": [],
   "source": [
    "nums = []\n",
    "for i in range(clusterAmount):\n",
    "    nums.append(0)"
   ]
  },
  {
   "cell_type": "code",
   "execution_count": 34,
   "metadata": {},
   "outputs": [],
   "source": [
    "#classify every sample in data and output nums of each class\n",
    "for i in range(len(data)):\n",
    "    nums[classify(centroids, data[i])]+=1"
   ]
  },
  {
   "cell_type": "code",
   "execution_count": 35,
   "metadata": {},
   "outputs": [
    {
     "data": {
      "text/plain": [
       "[151, 148, 85, 184, 177, 72, 102, 107, 46, 198, 146, 93, 190, 109, 192]"
      ]
     },
     "execution_count": 35,
     "metadata": {},
     "output_type": "execute_result"
    }
   ],
   "source": [
    "nums"
   ]
  },
  {
   "cell_type": "code",
   "execution_count": 36,
   "metadata": {},
   "outputs": [
    {
     "data": {
      "text/plain": [
       "[[0.745066160305548, -0.1685868171405762, 0.2779166849635348],\n",
       " [-0.325876719706544, -0.0530926084610796, 0.08991826294473895],\n",
       " [0.5726314595441865, 0.36372344702296655, -0.3276249632209552],\n",
       " [-0.27253546159341757, -0.3695850798990985, 0.09849434394387359],\n",
       " [-0.2436423392341106, -0.30731063439768197, 0.3762352727617841],\n",
       " [-0.4829232007672995, 0.6602387543624972, -0.19289254226289626],\n",
       " [-0.3971108106098521, 0.5615893303109205, 0.2952195054636615],\n",
       " [0.6311409532749043, -0.09969099553731361, -0.43665942383560896],\n",
       " [0.5691758430888653, 0.7069113579431354, 0.05592324403966571],\n",
       " [-0.33518789971180124, -0.35375844482718694, -0.3230185513885366],\n",
       " [-0.32198112700191245, 0.14691946164279007, 0.34179099972232385],\n",
       " [-0.42719629315696167, 0.3218010367637969, -0.195226409330275],\n",
       " [0.6819854580417434, -0.10116138554052824, -0.08465143545578432],\n",
       " [0.6732726026692112, 0.21392855952394013, 0.20699228093116817],\n",
       " [-0.3801131721884603, -0.054095922978470296, -0.30202086083266577]]"
      ]
     },
     "execution_count": 36,
     "metadata": {},
     "output_type": "execute_result"
    }
   ],
   "source": [
    "centroids"
   ]
  },
  {
   "cell_type": "code",
   "execution_count": 38,
   "metadata": {},
   "outputs": [],
   "source": [
    "#load data\n",
    "test = []\n",
    "#header = []\n",
    "if True:\n",
    "    with open(\"../playlistresult.csv\", \"r\") as csvfile:\n",
    "        rows = csv.reader(csvfile)\n",
    "        for row in rows:\n",
    "            test.append(row[:11])"
   ]
  },
  {
   "cell_type": "code",
   "execution_count": 39,
   "metadata": {},
   "outputs": [
    {
     "data": {
      "text/plain": [
       "100"
      ]
     },
     "execution_count": 39,
     "metadata": {},
     "output_type": "execute_result"
    }
   ],
   "source": [
    "len(test)"
   ]
  },
  {
   "cell_type": "code",
   "execution_count": 40,
   "metadata": {},
   "outputs": [],
   "source": [
    "test = normalize(test)"
   ]
  },
  {
   "cell_type": "code",
   "execution_count": 41,
   "metadata": {},
   "outputs": [
    {
     "data": {
      "text/plain": [
       "[[0.746,\n",
       "  0.69,\n",
       "  0.9166666666666666,\n",
       "  0.8674,\n",
       "  1.0,\n",
       "  0.164,\n",
       "  0.247,\n",
       "  0.0,\n",
       "  0.101,\n",
       "  0.497,\n",
       "  0.45],\n",
       " [0.514,\n",
       "  0.73,\n",
       "  0.08333333333333333,\n",
       "  0.9011,\n",
       "  1.0,\n",
       "  0.0598,\n",
       "  0.00146,\n",
       "  9.54e-05,\n",
       "  0.0897,\n",
       "  0.334,\n",
       "  0.855],\n",
       " [0.77,\n",
       "  0.724,\n",
       "  0.6666666666666666,\n",
       "  0.9086,\n",
       "  1.0,\n",
       "  0.0495,\n",
       "  0.0167,\n",
       "  0.0107,\n",
       "  0.353,\n",
       "  0.898,\n",
       "  0.61]]"
      ]
     },
     "execution_count": 41,
     "metadata": {},
     "output_type": "execute_result"
    }
   ],
   "source": [
    "test[:3]"
   ]
  },
  {
   "cell_type": "code",
   "execution_count": 42,
   "metadata": {},
   "outputs": [],
   "source": [
    "#transform data with pca model\n",
    "test = np.array(test, dtype=float)\n",
    "test = pca.transform(test)"
   ]
  },
  {
   "cell_type": "code",
   "execution_count": 43,
   "metadata": {},
   "outputs": [],
   "source": [
    "numstest = []\n",
    "for i in range(clusterAmount):\n",
    "    numstest.append(0)"
   ]
  },
  {
   "cell_type": "code",
   "execution_count": 44,
   "metadata": {},
   "outputs": [],
   "source": [
    "#classify every sample in data and output nums of each class\n",
    "for i in range(len(test)):\n",
    "    numstest[classify(centroids, test[i])]+=1"
   ]
  },
  {
   "cell_type": "code",
   "execution_count": 45,
   "metadata": {},
   "outputs": [
    {
     "data": {
      "text/plain": [
       "[13, 7, 2, 8, 8, 3, 5, 5, 4, 7, 11, 8, 5, 4, 10]"
      ]
     },
     "execution_count": 45,
     "metadata": {},
     "output_type": "execute_result"
    }
   ],
   "source": [
    "numstest"
   ]
  },
  {
   "cell_type": "code",
   "execution_count": null,
   "metadata": {},
   "outputs": [],
   "source": []
  }
 ],
 "metadata": {
  "kernelspec": {
   "display_name": "Python 3",
   "language": "python",
   "name": "python3"
  },
  "language_info": {
   "codemirror_mode": {
    "name": "ipython",
    "version": 3
   },
   "file_extension": ".py",
   "mimetype": "text/x-python",
   "name": "python",
   "nbconvert_exporter": "python",
   "pygments_lexer": "ipython3",
   "version": "3.7.7"
  }
 },
 "nbformat": 4,
 "nbformat_minor": 4
}
