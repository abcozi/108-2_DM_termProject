{
 "cells": [
  {
   "cell_type": "code",
   "execution_count": 80,
   "metadata": {},
   "outputs": [],
   "source": [
    "#import packages\n",
    "import csv\n",
    "from sklearn.cluster import KMeans\n",
    "import numpy as np\n",
    "import matplotlib.pyplot as plt\n",
    "from sklearn.decomposition import PCA\n",
    "import math\n",
    "from joblib import dump, load"
   ]
  },
  {
   "cell_type": "code",
   "execution_count": 90,
   "metadata": {},
   "outputs": [],
   "source": [
    "#data normalization\n",
    "def normalize(data):\n",
    "    data_ = []\n",
    "    for i in range(len(data)):\n",
    "        row = []\n",
    "        for j in range(len(data[i])):\n",
    "            if j == 2:\n",
    "                row.append(int(data[i][j])/12)\n",
    "            elif j == 3:\n",
    "                val = (float(data[i][j]) +60)/60\n",
    "                row.append(val)\n",
    "            elif j == 10:\n",
    "                row.append(int(round(float(data[i][j])))/200)\n",
    "            else:\n",
    "                row.append(float(data[i][j]))\n",
    "        data_.append(row)\n",
    "    return data_"
   ]
  },
  {
   "cell_type": "code",
   "execution_count": 91,
   "metadata": {},
   "outputs": [],
   "source": [
    "#load centroids from step2 clustering results\n",
    "def getCentroids():\n",
    "    cs = []\n",
    "    with open(\"centroids_3.csv\", \"r\") as csvfile:\n",
    "        rows = csv.reader(csvfile)\n",
    "        for row in rows:\n",
    "            drow = []\n",
    "            for col in row:\n",
    "                drow.append(float(col))\n",
    "            cs.append(drow)\n",
    "    #cs = np.array(cs)\n",
    "    return cs"
   ]
  },
  {
   "cell_type": "code",
   "execution_count": 112,
   "metadata": {},
   "outputs": [],
   "source": [
    "#每個sample使用features如下，共11個。\n",
    "#['danceability','energy','key', 'loudness', 'mode', 'speechiness', 'acousticness','instrumentalness',\n",
    "# 'liveness','valence','tempo']\n",
    "#classify a feature vector. x must be a 1x11 vector(11 features)\n",
    "def classify(centroids,x):\n",
    "    minDis = 0\n",
    "    belong = 0\n",
    "    for i in range(len(centroids)):\n",
    "        val = 0\n",
    "        for j in range(len(centroids[0])):\n",
    "            print(\"i: \"+str(i)+\", j: \"+str(j))\n",
    "            print(x[j])\n",
    "            print(str(centroids[i][j]))\n",
    "            val += math.pow(x[j]-centroids[i][j],2)\n",
    "        if i == 0:\n",
    "            minDis = val\n",
    "        elif val < minDis:\n",
    "            minDis = val\n",
    "            belong = i\n",
    "    return belong"
   ]
  },
  {
   "cell_type": "code",
   "execution_count": 124,
   "metadata": {},
   "outputs": [],
   "source": [
    "def getDataClusters(data):\n",
    "    print(\"data: \"+str(len(data)))\n",
    "    #load pca model from step2\n",
    "    pca = load(\"pca.joblib\")\n",
    "    \n",
    "    #get centroids from reord\n",
    "    centroids = getCentroids()\n",
    "    print(centroids)\n",
    "    clusterAmount = len(centroids)\n",
    "    #noramlize data\n",
    "    data = normalize(data)\n",
    "    \n",
    "    #transform data with pca model\n",
    "    data = np.array(data, dtype=float)\n",
    "    data = pca.transform(data)\n",
    "    \n",
    "    #cluster stats\n",
    "    nums = []\n",
    "    for i in range(clusterAmount):\n",
    "        nums.append(0)\n",
    "    \n",
    "    #classify every sample in data and output nums of each class\n",
    "    clus = []\n",
    "    for i in range(len(data)):\n",
    "        print(\"dataj: \"+str(len(data[i])))\n",
    "        label = classify(centroids, data[i])\n",
    "        clus.append(label)\n",
    "        nums[label]+=1\n",
    "        \n",
    "    return clus, nums"
   ]
  },
  {
   "cell_type": "code",
   "execution_count": 125,
   "metadata": {},
   "outputs": [],
   "source": [
    "#load data\n",
    "test_x = []\n",
    "\n",
    "#set csv dataset path:\n",
    "path = \"../playlistresult.csv\"\n",
    "\n",
    "#set features start and end columns\n",
    "startCol = 0\n",
    "endCol = 11\n",
    "\n",
    "#load data\n",
    "with open(path, \"r\") as csvfile:\n",
    "    rows = csv.reader(csvfile)\n",
    "    for row in rows:\n",
    "        test_x.append(row[startCol:endCol])"
   ]
  },
  {
   "cell_type": "code",
   "execution_count": 128,
   "metadata": {},
   "outputs": [],
   "source": [
    "#test_x[:10]"
   ]
  },
  {
   "cell_type": "code",
   "execution_count": 126,
   "metadata": {},
   "outputs": [
    {
     "name": "stdout",
     "output_type": "stream",
     "text": [
      "data: 100\n",
      "[[-0.33794958503166833, -0.27258021985976066, -0.2836430259866599, 0.16969618129302222, 0.01486316629077524], [0.635457363139868, -0.049169823369278824, -0.3556800858875389, 0.036230565333834626, 0.017422554334904996], [-0.29567957551777496, -0.14455859140382873, 0.24357595240438604, -0.23649061559395992, -0.015524777074921187], [-0.4558131395150601, 0.5047986273706814, -0.18381055056500523, 0.04450876314968428, 0.017773604797744622], [0.5817376335381309, 0.5596862261881519, -0.04288147833080058, 0.0466478761669732, 0.02529386476534494], [-0.3730722892175528, -0.11443631672762465, -0.2768875302667416, -0.20445533246859038, -0.025971558201688647], [0.7293502768827979, -0.12769287327561923, 0.1778897322329475, 0.13524436581799024, -0.01972834111461432], [-0.25790277727355737, -0.30201268168688705, 0.24485057702143623, 0.14751315761645029, -0.00636133597823533], [0.6787983335092265, 0.017317853243758213, 0.0834640810282873, -0.2656166508991366, -0.00398703350004132], [-0.3677079733185225, 0.39764464730554033, 0.30227008195418814, 0.053130710383515696, 0.013309243755934345]]\n",
      "dataj: 3\n",
      "i: 0, j: 0\n",
      "-0.24167143619475429\n",
      "-0.33794958503166833\n",
      "i: 0, j: 1\n",
      "-0.14831033749879743\n",
      "-0.27258021985976066\n",
      "i: 0, j: 2\n",
      "0.5098109214832783\n",
      "-0.2836430259866599\n",
      "i: 0, j: 3\n"
     ]
    },
    {
     "ename": "IndexError",
     "evalue": "index 3 is out of bounds for axis 0 with size 3",
     "output_type": "error",
     "traceback": [
      "\u001b[0;31m---------------------------------------------------------------------------\u001b[0m",
      "\u001b[0;31mIndexError\u001b[0m                                Traceback (most recent call last)",
      "\u001b[0;32m<ipython-input-126-dc0440762560>\u001b[0m in \u001b[0;36m<module>\u001b[0;34m\u001b[0m\n\u001b[0;32m----> 1\u001b[0;31m \u001b[0mtest_y\u001b[0m\u001b[0;34m,\u001b[0m \u001b[0mtest_y_stats\u001b[0m \u001b[0;34m=\u001b[0m \u001b[0mgetDataClusters\u001b[0m\u001b[0;34m(\u001b[0m\u001b[0mtest_x\u001b[0m\u001b[0;34m)\u001b[0m\u001b[0;34m\u001b[0m\u001b[0;34m\u001b[0m\u001b[0m\n\u001b[0m",
      "\u001b[0;32m<ipython-input-124-1fd4db99920d>\u001b[0m in \u001b[0;36mgetDataClusters\u001b[0;34m(data)\u001b[0m\n\u001b[1;32m     24\u001b[0m     \u001b[0;32mfor\u001b[0m \u001b[0mi\u001b[0m \u001b[0;32min\u001b[0m \u001b[0mrange\u001b[0m\u001b[0;34m(\u001b[0m\u001b[0mlen\u001b[0m\u001b[0;34m(\u001b[0m\u001b[0mdata\u001b[0m\u001b[0;34m)\u001b[0m\u001b[0;34m)\u001b[0m\u001b[0;34m:\u001b[0m\u001b[0;34m\u001b[0m\u001b[0;34m\u001b[0m\u001b[0m\n\u001b[1;32m     25\u001b[0m         \u001b[0mprint\u001b[0m\u001b[0;34m(\u001b[0m\u001b[0;34m\"dataj: \"\u001b[0m\u001b[0;34m+\u001b[0m\u001b[0mstr\u001b[0m\u001b[0;34m(\u001b[0m\u001b[0mlen\u001b[0m\u001b[0;34m(\u001b[0m\u001b[0mdata\u001b[0m\u001b[0;34m[\u001b[0m\u001b[0mi\u001b[0m\u001b[0;34m]\u001b[0m\u001b[0;34m)\u001b[0m\u001b[0;34m)\u001b[0m\u001b[0;34m)\u001b[0m\u001b[0;34m\u001b[0m\u001b[0;34m\u001b[0m\u001b[0m\n\u001b[0;32m---> 26\u001b[0;31m         \u001b[0mlabel\u001b[0m \u001b[0;34m=\u001b[0m \u001b[0mclassify\u001b[0m\u001b[0;34m(\u001b[0m\u001b[0mcentroids\u001b[0m\u001b[0;34m,\u001b[0m \u001b[0mdata\u001b[0m\u001b[0;34m[\u001b[0m\u001b[0mi\u001b[0m\u001b[0;34m]\u001b[0m\u001b[0;34m)\u001b[0m\u001b[0;34m\u001b[0m\u001b[0;34m\u001b[0m\u001b[0m\n\u001b[0m\u001b[1;32m     27\u001b[0m         \u001b[0mclus\u001b[0m\u001b[0;34m.\u001b[0m\u001b[0mappend\u001b[0m\u001b[0;34m(\u001b[0m\u001b[0mlabel\u001b[0m\u001b[0;34m)\u001b[0m\u001b[0;34m\u001b[0m\u001b[0;34m\u001b[0m\u001b[0m\n\u001b[1;32m     28\u001b[0m         \u001b[0mnums\u001b[0m\u001b[0;34m[\u001b[0m\u001b[0mlabel\u001b[0m\u001b[0;34m]\u001b[0m\u001b[0;34m+=\u001b[0m\u001b[0;36m1\u001b[0m\u001b[0;34m\u001b[0m\u001b[0;34m\u001b[0m\u001b[0m\n",
      "\u001b[0;32m<ipython-input-112-d1fd8681560d>\u001b[0m in \u001b[0;36mclassify\u001b[0;34m(centroids, x)\u001b[0m\n\u001b[1;32m     10\u001b[0m         \u001b[0;32mfor\u001b[0m \u001b[0mj\u001b[0m \u001b[0;32min\u001b[0m \u001b[0mrange\u001b[0m\u001b[0;34m(\u001b[0m\u001b[0mlen\u001b[0m\u001b[0;34m(\u001b[0m\u001b[0mcentroids\u001b[0m\u001b[0;34m[\u001b[0m\u001b[0;36m0\u001b[0m\u001b[0;34m]\u001b[0m\u001b[0;34m)\u001b[0m\u001b[0;34m)\u001b[0m\u001b[0;34m:\u001b[0m\u001b[0;34m\u001b[0m\u001b[0;34m\u001b[0m\u001b[0m\n\u001b[1;32m     11\u001b[0m             \u001b[0mprint\u001b[0m\u001b[0;34m(\u001b[0m\u001b[0;34m\"i: \"\u001b[0m\u001b[0;34m+\u001b[0m\u001b[0mstr\u001b[0m\u001b[0;34m(\u001b[0m\u001b[0mi\u001b[0m\u001b[0;34m)\u001b[0m\u001b[0;34m+\u001b[0m\u001b[0;34m\", j: \"\u001b[0m\u001b[0;34m+\u001b[0m\u001b[0mstr\u001b[0m\u001b[0;34m(\u001b[0m\u001b[0mj\u001b[0m\u001b[0;34m)\u001b[0m\u001b[0;34m)\u001b[0m\u001b[0;34m\u001b[0m\u001b[0;34m\u001b[0m\u001b[0m\n\u001b[0;32m---> 12\u001b[0;31m             \u001b[0mprint\u001b[0m\u001b[0;34m(\u001b[0m\u001b[0mx\u001b[0m\u001b[0;34m[\u001b[0m\u001b[0mj\u001b[0m\u001b[0;34m]\u001b[0m\u001b[0;34m)\u001b[0m\u001b[0;34m\u001b[0m\u001b[0;34m\u001b[0m\u001b[0m\n\u001b[0m\u001b[1;32m     13\u001b[0m             \u001b[0mprint\u001b[0m\u001b[0;34m(\u001b[0m\u001b[0mstr\u001b[0m\u001b[0;34m(\u001b[0m\u001b[0mcentroids\u001b[0m\u001b[0;34m[\u001b[0m\u001b[0mi\u001b[0m\u001b[0;34m]\u001b[0m\u001b[0;34m[\u001b[0m\u001b[0mj\u001b[0m\u001b[0;34m]\u001b[0m\u001b[0;34m)\u001b[0m\u001b[0;34m)\u001b[0m\u001b[0;34m\u001b[0m\u001b[0;34m\u001b[0m\u001b[0m\n\u001b[1;32m     14\u001b[0m             \u001b[0mval\u001b[0m \u001b[0;34m+=\u001b[0m \u001b[0mmath\u001b[0m\u001b[0;34m.\u001b[0m\u001b[0mpow\u001b[0m\u001b[0;34m(\u001b[0m\u001b[0mx\u001b[0m\u001b[0;34m[\u001b[0m\u001b[0mj\u001b[0m\u001b[0;34m]\u001b[0m\u001b[0;34m-\u001b[0m\u001b[0mcentroids\u001b[0m\u001b[0;34m[\u001b[0m\u001b[0mi\u001b[0m\u001b[0;34m]\u001b[0m\u001b[0;34m[\u001b[0m\u001b[0mj\u001b[0m\u001b[0;34m]\u001b[0m\u001b[0;34m,\u001b[0m\u001b[0;36m2\u001b[0m\u001b[0;34m)\u001b[0m\u001b[0;34m\u001b[0m\u001b[0;34m\u001b[0m\u001b[0m\n",
      "\u001b[0;31mIndexError\u001b[0m: index 3 is out of bounds for axis 0 with size 3"
     ]
    }
   ],
   "source": [
    "test_y, test_y_stats = getDataClusters(test_x)"
   ]
  },
  {
   "cell_type": "code",
   "execution_count": 123,
   "metadata": {},
   "outputs": [
    {
     "name": "stdout",
     "output_type": "stream",
     "text": [
      "[4, 9, 3, 4, 8, 7, 9, 8, 0, 0]\n",
      "[13, 7, 2, 8, 8, 3, 5, 5, 4, 7, 11, 8, 5, 4, 10]\n"
     ]
    }
   ],
   "source": [
    "print(test_y[:10])\n",
    "print(test_y_stats)"
   ]
  },
  {
   "cell_type": "code",
   "execution_count": null,
   "metadata": {},
   "outputs": [],
   "source": []
  }
 ],
 "metadata": {
  "kernelspec": {
   "display_name": "Python 3",
   "language": "python",
   "name": "python3"
  },
  "language_info": {
   "codemirror_mode": {
    "name": "ipython",
    "version": 3
   },
   "file_extension": ".py",
   "mimetype": "text/x-python",
   "name": "python",
   "nbconvert_exporter": "python",
   "pygments_lexer": "ipython3",
   "version": "3.7.7"
  }
 },
 "nbformat": 4,
 "nbformat_minor": 4
}
