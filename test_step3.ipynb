{
 "cells": [
  {
   "cell_type": "code",
   "execution_count": 11,
   "metadata": {},
   "outputs": [],
   "source": [
    "#import packages\n",
    "import csv\n",
    "from sklearn.cluster import KMeans\n",
    "import numpy as np\n",
    "import matplotlib.pyplot as plt\n",
    "from sklearn.decomposition import PCA\n",
    "import math\n",
    "from joblib import dump, load"
   ]
  },
  {
   "cell_type": "code",
   "execution_count": 12,
   "metadata": {},
   "outputs": [],
   "source": [
    "#return class amount\n",
    "def getClassAmount(centroids):\n",
    "    return len(centroids)"
   ]
  },
  {
   "cell_type": "code",
   "execution_count": 13,
   "metadata": {},
   "outputs": [],
   "source": [
    "#load centroids from step2 clustering results\n",
    "def getCentroids():\n",
    "    cs = []\n",
    "    with open(\"centroids.csv\", \"r\") as csvfile:\n",
    "        rows = csv.reader(csvfile)\n",
    "        for row in rows:\n",
    "            drow = []\n",
    "            for col in row:\n",
    "                drow.append(float(col))\n",
    "            cs.append(drow)\n",
    "    #cs = np.array(cs)\n",
    "    return cs"
   ]
  },
  {
   "cell_type": "code",
   "execution_count": 14,
   "metadata": {},
   "outputs": [],
   "source": [
    "#每個sample使用features如下，共11個。\n",
    "#['danceability','energy','key', 'loudness', 'mode', 'speechiness', 'acousticness','instrumentalness',\n",
    "# 'liveness','valence','tempo']\n",
    "#classify a feature vector. x must be a 1x11 vector(11 features)\n",
    "def classify(centroids,x):\n",
    "    minDis = 0\n",
    "    belong = 0\n",
    "    for i in range(len(centroids)):\n",
    "        val = 0\n",
    "        for j in range(len(centroids[0])):\n",
    "            val += math.pow(x[j]-centroids[i][j],2)\n",
    "        if i == 0:\n",
    "            minDis = val\n",
    "        elif val < minDis:\n",
    "            minDis = val\n",
    "            belong = i\n",
    "    return belong"
   ]
  },
  {
   "cell_type": "code",
   "execution_count": 27,
   "metadata": {},
   "outputs": [],
   "source": [
    "#load pca model from step2\n",
    "pca = load(\"pca.joblib\")"
   ]
  },
  {
   "cell_type": "code",
   "execution_count": 28,
   "metadata": {},
   "outputs": [],
   "source": [
    "#get centroids\n",
    "centroids = getCentroids()"
   ]
  },
  {
   "cell_type": "code",
   "execution_count": 29,
   "metadata": {},
   "outputs": [],
   "source": [
    "#get class amount\n",
    "classAmount = getClassAmount(centroids)"
   ]
  },
  {
   "cell_type": "code",
   "execution_count": 30,
   "metadata": {},
   "outputs": [],
   "source": [
    "#load data\n",
    "data = []\n",
    "header = []\n",
    "if True:\n",
    "    with open(\"city_result_2.csv\", \"r\") as csvfile:\n",
    "        rows = csv.reader(csvfile)\n",
    "        i = 0\n",
    "        for row in rows:\n",
    "            if i == 0:\n",
    "                header = row[2:13]\n",
    "            else:\n",
    "                data.append(row[2:13])\n",
    "            i += 1"
   ]
  },
  {
   "cell_type": "code",
   "execution_count": 31,
   "metadata": {},
   "outputs": [],
   "source": [
    "#transform data with pca model\n",
    "data = np.array(data, dtype=float)\n",
    "data = pca.transform(data)"
   ]
  },
  {
   "cell_type": "code",
   "execution_count": 32,
   "metadata": {},
   "outputs": [
    {
     "name": "stdout",
     "output_type": "stream",
     "text": [
      "[259, 442, 289, 479, 531]\n"
     ]
    }
   ],
   "source": [
    "#classify every sample in data and output nums of each class\n",
    "nums = [0]*classAmount\n",
    "for i in range(len(data)):\n",
    "    nums[classify(centroids, data[i])]+=1\n",
    "print(nums)"
   ]
  },
  {
   "cell_type": "code",
   "execution_count": 33,
   "metadata": {},
   "outputs": [],
   "source": [
    "#[273, 274, 525, 437, 491]centroids.csv"
   ]
  },
  {
   "cell_type": "code",
   "execution_count": null,
   "metadata": {},
   "outputs": [],
   "source": []
  }
 ],
 "metadata": {
  "kernelspec": {
   "display_name": "Python 3",
   "language": "python",
   "name": "python3"
  },
  "language_info": {
   "codemirror_mode": {
    "name": "ipython",
    "version": 3
   },
   "file_extension": ".py",
   "mimetype": "text/x-python",
   "name": "python",
   "nbconvert_exporter": "python",
   "pygments_lexer": "ipython3",
   "version": "3.7.7"
  }
 },
 "nbformat": 4,
 "nbformat_minor": 4
}
